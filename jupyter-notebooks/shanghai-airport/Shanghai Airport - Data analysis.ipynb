{
 "cells": [
  {
   "cell_type": "markdown",
   "id": "australian-ghost",
   "metadata": {},
   "source": [
    "# Shanghai Airport - AirSafe Tracking History usage walkthrough\n",
    "\n",
    "In this example we will call the AirSafe Tracking History API, plot the results on a map as well as generate some basic statistics from the obtained data."
   ]
  },
  {
   "cell_type": "code",
   "execution_count": null,
   "id": "standard-farmer",
   "metadata": {},
   "outputs": [],
   "source": [
    "# Uncomment the lines below when running in the cloud\n",
    "\n",
    "!mkdir datasets\n",
    "!wget -O requirements.txt 'https://github.com/spireglobal/aviation/blob/master/jupyter-notebooks/shanghai-airport/requirements.txt?raw=true'\n",
    "!wget -O datasets/demo.csv 'https://github.com/spireglobal/aviation/blob/master/jupyter-notebooks/shanghai-airport/datasets/demo.csv?raw=true'\n",
    "!pip install -r requirements.txt\n",
    "\n",
    "# Uncomment the lines below when running locally, after setting up your local kernel\n",
    "\n",
    "# %load_ext dotenv\n",
    "# %dotenv"
   ]
  },
  {
   "cell_type": "code",
   "execution_count": 3,
   "metadata": {},
   "outputs": [],
   "source": [
    "import getpass\n",
    "\n",
    "print('If you are in possession of an AirSafe Tracking History API token, please enter it here. If you don\\t, you can just press enter and leave the field blank.')\n",
    "api_token = getpass.getpass()"
   ]
  },
  {
   "cell_type": "code",
   "execution_count": 6,
   "id": "loving-fleece",
   "metadata": {},
   "outputs": [],
   "source": [
    "import os\n",
    "import plotly.express as px\n",
    "import pandas as pd\n",
    "import requests\n",
    "import json\n",
    "\n",
    "pd.options.plotting.backend = \"plotly\"\n",
    "\n",
    "resp = requests.get(\n",
    "    \"https://api.airsafe.spire.com/v2/targets/history\",\n",
    "    params={\n",
    "        \"start\": \"2021-03-20T12:00:00Z\",\n",
    "        \"end\": \"2021-03-20T14:30:00Z\",\n",
    "        \"latitude_between\": \"31.02988460440661,31.36374539559339\",\n",
    "        \"longitude_between\": \"121.1632295670742,121.52071043292581\",\n",
    "    },\n",
    "    headers={\"Authorization\": f\"Bearer {os.getenv('API_TOKEN') if os.getenv('API_TOKEN') else api_token}\"},\n",
    ")\n",
    "\n",
    "\n",
    "# If we do not have a valid API token, the default pre-downloaded dataset will be used.\n",
    "if (resp.status_code == 401):\n",
    "    df = pd.read_csv('datasets/demo.csv')\n",
    "else:\n",
    "    data = []\n",
    "    for line in resp.iter_lines(decode_unicode=True):\n",
    "        if line and '\"target\":{' in line:\n",
    "            data.append(json.loads(line)[\"target\"])\n",
    "    df = pd.DataFrame(data)"
   ]
  },
  {
   "cell_type": "markdown",
   "id": "above-movie",
   "metadata": {},
   "source": [
    "We have now queried the data over Shanghai Hongqiao airport, and generated a Panda DataFrame with the results. We can now easily plot that data on a map using the Plotly Python library."
   ]
  },
  {
   "cell_type": "code",
   "execution_count": null,
   "id": "colonial-python",
   "metadata": {
    "scrolled": false
   },
   "outputs": [],
   "source": [
    "fig = px.scatter_mapbox(df, lat='latitude', lon='longitude', hover_data=['icao_address',\"altitude_baro\", \"on_ground\"], zoom=9,\n",
    "                        mapbox_style=\"carto-positron\", color=\"icao_address\")\n",
    "fig.show()"
   ]
  },
  {
   "cell_type": "markdown",
   "id": "occupied-ocean",
   "metadata": {},
   "source": [
    "## Query a single aircraft and plot its course\n",
    "\n",
    "Let's now select the aircraft with the most datapoints in the previous query, and run a query for that aircraft only on a longer period of time."
   ]
  },
  {
   "cell_type": "code",
   "execution_count": null,
   "id": "unable-dress",
   "metadata": {
    "scrolled": false
   },
   "outputs": [],
   "source": [
    "resp = requests.get(\n",
    "    \"https://api.airsafe.spire.com/v2/targets/history\",\n",
    "    params={\n",
    "        \"icao_address\": df['icao_address'].value_counts().idxmax(),\n",
    "        \"start\": \"2021-03-20T12:00:00Z\",\n",
    "        \"end\": \"2021-03-20T20:30:00Z\",\n",
    "    },\n",
    "    headers={\"Authorization\": f\"Bearer bdBsXdN16oev8QI50yGWAl7pHTmL7PJ7\"},\n",
    ")\n",
    "data = []\n",
    "for line in resp.iter_lines(decode_unicode=True):\n",
    "    if line and '\"target\":{' in line:\n",
    "        data.append(json.loads(line)[\"target\"])\n",
    "df2 = pd.DataFrame(data)\n",
    "fig = px.scatter_mapbox(df2, lat='latitude', lon='longitude', hover_data=['timestamp', 'icao_address',\"altitude_baro\", \"on_ground\"],\n",
    "                        zoom=4,\n",
    "                        mapbox_style=\"carto-positron\")\n",
    "fig.show()"
   ]
  },
  {
   "cell_type": "markdown",
   "id": "preliminary-commander",
   "metadata": {},
   "source": [
    "## Plot the aircraft altitude\n",
    "\n",
    "Let's now see analyse the altitude variations of the flight we previously requested.\n",
    "\n",
    "We will just plot the `altitude_baro` field in a line graph to do so.\n",
    "\n",
    "Note that we have also generated a second line in the graph that indiciates the difference in altitude between each data point. This will help noticing potential jumps in the data, if the difference is too high."
   ]
  },
  {
   "cell_type": "code",
   "execution_count": null,
   "id": "electronic-suicide",
   "metadata": {
    "scrolled": false
   },
   "outputs": [],
   "source": [
    "from plotly.subplots import make_subplots\n",
    "\n",
    "fig = px.line(df2, x=\"timestamp\", y=\"altitude_baro\")\n",
    "fig.add_scatter(y=df2['altitude_baro'].diff().abs(), x=df2['timestamp'],  mode='lines', name=\"alt_diff\")\n",
    "fig.show()"
   ]
  },
  {
   "cell_type": "markdown",
   "id": "enclosed-bullet",
   "metadata": {},
   "source": [
    "## Generate aircraft type statistics\n",
    "\n",
    "Let's now generate some statistics regarding the types of aircraft present in the zone we queried.\n",
    "We can first group the entries by `aircraft_type_icao`, then select the `icao_address` column which we will then `nunique()` to count the number of unique ICAO addresses present for each aircraft type. \n",
    "We can then simply plot it!"
   ]
  },
  {
   "cell_type": "code",
   "execution_count": null,
   "id": "proprietary-eligibility",
   "metadata": {
    "scrolled": false
   },
   "outputs": [],
   "source": [
    "unique_aircraft_type = df.groupby('aircraft_type_icao')['icao_address'].nunique()\n",
    "plot = unique_aircraft_type.plot(kind=\"bar\", y='icao_address', text='icao_address')\n",
    "plot.update_traces(textposition='outside')"
   ]
  },
  {
   "cell_type": "markdown",
   "id": "genuine-airfare",
   "metadata": {},
   "source": [
    "We can also find out the different destinations deserved by the captured flights during this period. We can group our data points by `arrival_airport_icao` and `airline_name` and `nunique()` the results so we get the exact number of points for this combination."
   ]
  },
  {
   "cell_type": "code",
   "execution_count": null,
   "id": "defined-account",
   "metadata": {
    "scrolled": false
   },
   "outputs": [],
   "source": [
    "pd.set_option('display.max_rows', df.shape[0]+1)\n",
    "test = df.groupby(['arrival_airport_icao', 'airline_name']).nunique().sort_values(by=['arrival_airport_icao', 'flight_number'], ascending=False)\n",
    "test['flight_number'].to_frame()"
   ]
  }
 ],
 "metadata": {
  "kernelspec": {
   "display_name": "airsafe-test",
   "language": "python",
   "name": "airsafe-test"
  },
  "language_info": {
   "codemirror_mode": {
    "name": "ipython",
    "version": 3
   },
   "file_extension": ".py",
   "mimetype": "text/x-python",
   "name": "python",
   "nbconvert_exporter": "python",
   "pygments_lexer": "ipython3",
   "version": "3.8.6"
  }
 },
 "nbformat": 4,
 "nbformat_minor": 5
}